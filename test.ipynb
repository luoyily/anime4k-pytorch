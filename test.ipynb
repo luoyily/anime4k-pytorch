{
 "cells": [
  {
   "attachments": {},
   "cell_type": "markdown",
   "metadata": {},
   "source": [
    "This notebook is some experimental code."
   ]
  },
  {
   "attachments": {},
   "cell_type": "markdown",
   "metadata": {},
   "source": [
    "## Add lines to img\n",
    "\n",
    "The following is a sample code for adding random color lines to a picture.(like the dataset used by the anime4k author)\n",
    "\n",
    "mask: the lines that need to be added to the image\n",
    "\n",
    "img: the image to which the lines need to be added"
   ]
  },
  {
   "cell_type": "code",
   "execution_count": null,
   "metadata": {},
   "outputs": [],
   "source": [
    "from PIL import Image,ImageOps\n",
    "import random\n",
    "from torchvision import transforms\n",
    "# Open the image and the mask\n",
    "\n",
    "mask = ImageOps.invert(Image.open('mask/1.png').convert('L'))\n",
    "\n",
    "mask = transforms.RandomCrop((256,256))(mask)\n",
    "mask =transforms.RandomVerticalFlip()(mask)\n",
    "mask = transforms.RandomHorizontalFlip()(mask)\n",
    "genimg = Image.new('RGBA',mask.size,tuple([random.randint(0,255) for i in range(3)]))\n",
    "\n",
    "# Apply the mask to the image\n",
    "genimg.putalpha(mask)\n",
    "# genimg.save('gen.png')\n",
    "img = Image.open('test.png')\n",
    "img = img.convert('RGB')\n",
    "img = transforms.RandomCrop((256,256))(img)\n",
    "img.paste(genimg,(0,0),mask=genimg.split()[3])\n",
    "# Save the output\n",
    "img.save('output.png')"
   ]
  }
 ],
 "metadata": {
  "kernelspec": {
   "display_name": "Python 3",
   "language": "python",
   "name": "python3"
  },
  "language_info": {
   "codemirror_mode": {
    "name": "ipython",
    "version": 3
   },
   "file_extension": ".py",
   "mimetype": "text/x-python",
   "name": "python",
   "nbconvert_exporter": "python",
   "pygments_lexer": "ipython3",
   "version": "3.10.9"
  },
  "orig_nbformat": 4,
  "vscode": {
   "interpreter": {
    "hash": "90528ac9f84e6e59cadb7d09fb5449f76510f62cd5a4c7477374219f96764f55"
   }
  }
 },
 "nbformat": 4,
 "nbformat_minor": 2
}
